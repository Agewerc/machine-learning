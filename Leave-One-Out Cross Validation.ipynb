{
 "cells": [
  {
   "cell_type": "markdown",
   "metadata": {},
   "source": [
    "## Question 2 [Leave-One-Out Cross Validation, 15 Marks] \n",
    "\n",
    "    I. A special case of K-Fold cross-validation is Leave-One-Out cross-validation where K (i.e., the number of folds/subsets) is equal to the size of the training dataset. In each iteration, one training data point is used as the validation set. Implement a Leave-One-Out cross-validation (CV) function for your KNN regressor: \n",
    "    *cv(train.data, train.label, K, numFold=?)* \n",
    "    which takes the training data and their labels (continuous values), K value, the number of folds, and returns errors for different folds of the training data.\n",
    "    \n",
    "    II. Using the training data in Question 1, run your Leave-One-Out CV. Change the value of K=1,..,15 in your KNN regressor, and for each K compute tthe average of error values you have got for folds. Plot the average of error values versus 1/K for K=1,..,15 in your KNN regressor. Save the plot in your Jupyter Notebook file for Question 2.\n",
    "    \n",
    "#### Importing Libraries"
   ]
  },
  {
   "cell_type": "code",
   "execution_count": 7,
   "metadata": {},
   "outputs": [],
   "source": [
    "library(reshape2) # Reshape\n",
    "library(ggplot2) # Plots\n",
    "library(corrplot) # Analyse correlations"
   ]
  },
  {
   "cell_type": "markdown",
   "metadata": {},
   "source": [
    "#### Importing the Dataset"
   ]
  },
  {
   "cell_type": "code",
   "execution_count": 8,
   "metadata": {},
   "outputs": [],
   "source": [
    "test <- read.csv(\"data\\\\Sintetic1A_test.csv\")\n",
    "train <- read.csv(\"data\\\\Sintetic1A_train.csv\")\n",
    "\n",
    "# Create a column for index in the dataframes for support\n",
    "row.names(train) <- 1:nrow(train)\n",
    "\n",
    "# Create a column for index in the dataframes for support\n",
    "train.data <- train[1]\n",
    "train.label <- train[2]"
   ]
  },
  {
   "cell_type": "markdown",
   "metadata": {},
   "source": [
    "#### KNN Function"
   ]
  },
  {
   "cell_type": "code",
   "execution_count": 9,
   "metadata": {},
   "outputs": [],
   "source": [
    "# CV function\n",
    "cv <- function(train.data, train.label, K, numFold = nrow(train.data)){\n",
    "    \n",
    "    error.vector <- c()\n",
    "    random.sample <- sample(1:nrow(train.data), size = numFold, replace = FALSE)\n",
    "        \n",
    "    for (i in random.sample){\n",
    "        \n",
    "        ## Define new data\n",
    "        validation.data <- train.data[i,]\n",
    "        trainning.data <- train.data[-i,]\n",
    "\n",
    "        ## Define validation features\n",
    "        validation.label <- train.label[i,]\n",
    "        trainning.label <- train.label[-i,]\n",
    "       \n",
    "        ## calculate distances between samples\n",
    "        dist <- as.matrix(dist(c(validation.data, trainning.data), method= 'manhattan'))[1,-1]\n",
    "    \n",
    "        ### ...find its K nearest neighbours from training sampels...\n",
    "        nn <- as.data.frame(sort(dist, index.return = TRUE))[1:K,2]\n",
    "        \n",
    "        ###... and calculate the predicted label according to the majority vote\n",
    "        predicted.label <- sum(train.label[nn,])/K\n",
    "        \n",
    "        ###... Find error and store on vector\n",
    "        error.vector <- c(error.vector, (validation.label - predicted.label)^2)\n",
    "        \n",
    "    }\n",
    "    \n",
    "    ## return the class labels as output\n",
    "    return (round(error.vector,3))\n",
    "}"
   ]
  },
  {
   "cell_type": "markdown",
   "metadata": {},
   "source": [
    "    II. Using the training data in Question 1, run your Leave-One-Out CV. Change the value of K=1,..,15 in your KNN regressor, and for each K compute the average of error values you have got for folds. Plot the average of error values versus 1/K for K=1,..,15 in your KNN regressor. Save the plot in your Jupyter Notebook file for Question 2."
   ]
  },
  {
   "cell_type": "code",
   "execution_count": 10,
   "metadata": {},
   "outputs": [],
   "source": [
    "df_error <- data.frame('K'=1:15, 'error'=rep(0,15)) #support table with errors rates\n",
    "\n",
    "for (k in 1:15){\n",
    "    df_error[k,'error'] <- mean(cv(train.data, train.label, K = k)) # train error\n",
    "}"
   ]
  },
  {
   "cell_type": "code",
   "execution_count": 11,
   "metadata": {},
   "outputs": [
    {
     "data": {
      "image/png": "[encoded data removed]",
      "text/plain": [
       "plot without title"
      ]
     },
     "metadata": {
      "image/png": {
       "height": 300,
       "width": 720
      },
      "text/plain": {
       "height": 300,
       "width": 720
      }
     },
     "output_type": "display_data"
    }
   ],
   "source": [
    "options(repr.plot.width=12, repr.plot.height=5) # area of display\n",
    "\n",
    "ggplot(data=df_error, aes(x=1/K, y=error)) + geom_line() +\n",
    "       scale_color_discrete(guide = guide_legend(title = NULL)) + theme_minimal() +\n",
    "       ggtitle(\"Missclassification Error\")"
   ]
  },
  {
   "cell_type": "markdown",
   "metadata": {},
   "source": [
    "    III. Report (in your Jupyter Notebook file) the optimum value for K based on your plot for this Leave-One-Out cross validation in the previous part (Part II)."
   ]
  },
  {
   "cell_type": "code",
   "execution_count": 12,
   "metadata": {},
   "outputs": [
    {
     "name": "stdout",
     "output_type": "stream",
     "text": [
      "Optimal Parameter:  2"
     ]
    }
   ],
   "source": [
    "min.error <- min(df_error$error)\n",
    "min.K <- df_error[df_error$error == min.error,\"K\"]\n",
    "cat(\"Optimal Parameter: \", min.K)"
   ]
  },
  {
   "cell_type": "markdown",
   "metadata": {},
   "source": [
    "After importing the KNN function and performed the Leave-One-Out Cross Validation simulations we have found the optimal `K = 2`.  "
   ]
  }
 ],
 "metadata": {
  "kernelspec": {
   "display_name": "R",
   "language": "R",
   "name": "ir"
  },
  "language_info": {
   "codemirror_mode": "r",
   "file_extension": ".r",
   "mimetype": "text/x-r-source",
   "name": "R",
   "pygments_lexer": "r",
   "version": "3.6.3"
  }
 },
 "nbformat": 4,
 "nbformat_minor": 2
}
